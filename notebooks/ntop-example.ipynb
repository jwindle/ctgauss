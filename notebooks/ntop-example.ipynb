{
 "cells": [
  {
   "cell_type": "markdown",
   "id": "9977db05-83ef-4aeb-9a29-74969dbe2459",
   "metadata": {
    "tags": []
   },
   "source": [
    "# Introduction\n",
    "\n",
    "Here we extend the one-norm example.  Now, instead of considering a diamond, we consider a regular polygon in the xy-plane with `n=sides` sides.  (The variable `sides` is set at the start of the geometry section.)\n",
    "\n",
    "We then connect the vertices of the polygon to (0, 0, 1) and (0, 0, -1) to make a \"top\" and then sample from a Gaussian conditional on the sample lying on that shape.  The default number of samples is 1000.  You made need to up the total number of samples to adequately explore the space depending on the structure of the anisotropic variance and the shape of the polygon."
   ]
  },
  {
   "cell_type": "markdown",
   "id": "cf74fa8e-b428-4d2c-bc8f-a5e271eead5a",
   "metadata": {
    "tags": []
   },
   "source": [
    "# Import"
   ]
  },
  {
   "cell_type": "code",
   "execution_count": null,
   "id": "c80a1a41-b7ab-4c37-9965-475f4bd7c98b",
   "metadata": {
    "tags": []
   },
   "outputs": [],
   "source": [
    "import os\n",
    "import numpy as np\n",
    "import importlib as il"
   ]
  },
  {
   "cell_type": "code",
   "execution_count": null,
   "id": "3018c7eb-5894-42f6-92f1-e7c63ef8e223",
   "metadata": {
    "tags": []
   },
   "outputs": [],
   "source": [
    "import matplotlib.pyplot as plt\n",
    "from mpl_toolkits.mplot3d import Axes3D"
   ]
  },
  {
   "cell_type": "code",
   "execution_count": null,
   "id": "c2d82427-15da-4aa2-b019-1b4f061b7f59",
   "metadata": {
    "tags": []
   },
   "outputs": [],
   "source": [
    "# Make sure this is set to the repository base directory\n",
    "os.getenv(\"PYTHONPATH\", \"\")"
   ]
  },
  {
   "cell_type": "code",
   "execution_count": null,
   "id": "8ccc839f-70e2-4c69-9469-204eea5dccc1",
   "metadata": {
    "tags": []
   },
   "outputs": [],
   "source": [
    "il.import_module(\"ctgauss\")"
   ]
  },
  {
   "cell_type": "code",
   "execution_count": null,
   "id": "08659c38-f80b-4e76-b9b9-bc6db2ffe3dc",
   "metadata": {
    "tags": []
   },
   "outputs": [],
   "source": [
    "from ctgauss import IsotropicCTGauss, AnisotropicCTGauss"
   ]
  },
  {
   "cell_type": "markdown",
   "id": "ee598b0d-2760-46ce-8a73-c2b9551a5018",
   "metadata": {
    "tags": []
   },
   "source": [
    "# Define geometry of subspace"
   ]
  },
  {
   "cell_type": "code",
   "execution_count": null,
   "id": "8078cce3-eec9-4428-bf93-89a67f9e7faa",
   "metadata": {
    "tags": []
   },
   "outputs": [],
   "source": [
    "sides = 6"
   ]
  },
  {
   "cell_type": "code",
   "execution_count": null,
   "id": "c558f04e-467f-46f5-840c-b05fcdefc670",
   "metadata": {
    "tags": []
   },
   "outputs": [],
   "source": [
    "theta = np.linspace(0, 2.*np.pi, sides+1)\n",
    "# theta"
   ]
  },
  {
   "cell_type": "code",
   "execution_count": null,
   "id": "299161e1-ca1a-4931-a8d1-e61290cd5fa4",
   "metadata": {
    "tags": []
   },
   "outputs": [],
   "source": [
    "FXY = np.stack((-np.sin(theta[0:-1]), np.cos(theta[0:-1]), np.full((sides,), 0.0)), axis=1)\n",
    "FXY"
   ]
  },
  {
   "cell_type": "code",
   "execution_count": null,
   "id": "da5273ae-4fa6-4067-9358-b54cd397f957",
   "metadata": {
    "tags": []
   },
   "outputs": [],
   "source": [
    "FZ = np.array([[0, 0, 1]])\n",
    "FZ"
   ]
  },
  {
   "cell_type": "code",
   "execution_count": null,
   "id": "fc587803-abf8-48db-9744-82ca202ff8c2",
   "metadata": {
    "tags": []
   },
   "outputs": [],
   "source": [
    "F = np.vstack((FXY, FZ))\n",
    "F"
   ]
  },
  {
   "cell_type": "code",
   "execution_count": null,
   "id": "0af979e8-c350-4cff-a78a-31720dcc0837",
   "metadata": {
    "tags": []
   },
   "outputs": [],
   "source": [
    "g = np.zeros((sides+1,))\n",
    "g"
   ]
  },
  {
   "cell_type": "code",
   "execution_count": null,
   "id": "674fce8e-b3ce-4d73-af37-58028af19947",
   "metadata": {
    "tags": []
   },
   "outputs": [],
   "source": [
    "L = np.zeros(((sides)*2, sides+1))\n",
    "\n",
    "for j in range(2):\n",
    "    for i in range(sides):\n",
    "        reg_cur = i + j*sides\n",
    "        reg_cc = (i + 1) % sides + j*sides\n",
    "        reg_cw = (i - 1) % sides + j*sides\n",
    "        reg_z  = i + ((j+1) % 2)*sides\n",
    "        i_pos = i % sides\n",
    "        i_neg = (i+1) % sides\n",
    "        L[reg_cur, i_pos] = 1 * (reg_cw+1) # Fortran indexing\n",
    "        L[reg_cur, i_neg] = -1 * (reg_cc+1) # Fortran indexing\n",
    "        L[reg_cur, sides] = (-1)**j * (reg_z + 1) # Fortrain indexing\n",
    "        \n",
    "L"
   ]
  },
  {
   "cell_type": "code",
   "execution_count": null,
   "id": "e15bc705-fe34-4bd8-8586-c9081d2e473d",
   "metadata": {
    "tags": []
   },
   "outputs": [],
   "source": [
    "theta_bisect = 0.5 * (theta[0:-1] + theta[1:])"
   ]
  },
  {
   "cell_type": "code",
   "execution_count": null,
   "id": "1ea42283-8064-41ae-b3bb-a5af7b43a39c",
   "metadata": {
    "tags": []
   },
   "outputs": [],
   "source": [
    "# Some precalc is necessary here to get the correct z value.  \n",
    "# We want the distance between A[j] and (1, 0, 0) and (0, 0, 1) to be the same, which gives us psi.\n",
    "# And then we want r to minimize those distances.\n",
    "theta_bisect_0 = theta_bisect[0]\n",
    "psi = np.arctan(np.cos(theta_bisect_0))\n",
    "# rad = 2. / (np.tan(theta_bisect_0) + 1 + np.sin(psi))\n",
    "rad = 1\n",
    "theta_bisect_0, psi, rad\n",
    "z_val = rad * np.sin(psi)"
   ]
  },
  {
   "cell_type": "code",
   "execution_count": null,
   "id": "59565361-6fff-4a74-825f-5394204f4ca5",
   "metadata": {
    "tags": []
   },
   "outputs": [],
   "source": [
    "Atop = np.stack((\n",
    "    rad*np.cos(psi)*np.cos(theta_bisect), \n",
    "    rad*np.cos(psi)*np.sin(theta_bisect), \n",
    "    np.full((sides,), z_val)\n",
    "), axis=1)\n",
    "Abot = Atop.copy()\n",
    "Abot[:,2] = -z_val\n",
    "\n",
    "A = np.vstack((Atop, Abot)).reshape((sides*2, 3, 1))\n",
    "A.squeeze()"
   ]
  },
  {
   "cell_type": "code",
   "execution_count": null,
   "id": "6b62c209-3706-436c-be53-838c2cc520d1",
   "metadata": {
    "tags": []
   },
   "outputs": [],
   "source": [
    "y = -np.full((2*sides, 1), fill_value=1.0)"
   ]
  },
  {
   "cell_type": "markdown",
   "id": "b8bb0576-94c4-4a72-9beb-9e47408655a5",
   "metadata": {
    "tags": []
   },
   "source": [
    "# Examples"
   ]
  },
  {
   "cell_type": "code",
   "execution_count": null,
   "id": "60ab8884-4528-4380-b3b9-0582123b59d5",
   "metadata": {
    "tags": []
   },
   "outputs": [],
   "source": [
    "F"
   ]
  },
  {
   "cell_type": "code",
   "execution_count": null,
   "id": "cc82a40e-86d8-454f-b6ed-1d4f2bbe21b8",
   "metadata": {
    "tags": []
   },
   "outputs": [],
   "source": [
    "N = 1000\n",
    "t_max = 0.5*np.pi\n",
    "reg = 1\n",
    "reg_c = (reg - 1)\n",
    "A_squeezed = A.squeeze()\n",
    "x0 = -y[reg_c] * A_squeezed[reg_c] / np.linalg.norm(A_squeezed[reg_c])**2\n",
    "x0dot = np.array([-np.sin(theta_bisect[reg_c]), np.cos(theta_bisect[reg_c]), 0]) # Should be going to region 1 to 2\n",
    "\n",
    "(x0, x0dot)"
   ]
  },
  {
   "cell_type": "markdown",
   "id": "c049a0ce-d8df-4ec4-b6e2-f97d4d8798ee",
   "metadata": {},
   "source": [
    "## Example 1 - Isotropic Variance"
   ]
  },
  {
   "cell_type": "code",
   "execution_count": null,
   "id": "0a040e20-901b-449c-896e-5d13e91a4813",
   "metadata": {
    "tags": []
   },
   "outputs": [],
   "source": [
    "mu = np.zeros((3,))\n",
    "phi = 1.0"
   ]
  },
  {
   "cell_type": "code",
   "execution_count": null,
   "id": "f988c125-2ccb-45e9-a9f9-9bd504db7e5f",
   "metadata": {
    "tags": []
   },
   "outputs": [],
   "source": [
    "rng = np.random.default_rng()"
   ]
  },
  {
   "cell_type": "code",
   "execution_count": null,
   "id": "1f188ee9-15ab-433a-85e0-134f488ca27c",
   "metadata": {
    "tags": []
   },
   "outputs": [],
   "source": [
    "ictg = IsotropicCTGauss(phi, mu, A, y, F, g, L)"
   ]
  },
  {
   "cell_type": "code",
   "execution_count": null,
   "id": "4b073552-38fb-4ecb-b374-b5e1e9743021",
   "metadata": {
    "tags": []
   },
   "outputs": [],
   "source": [
    "# DO WE PASS COTINUITY ERROR\n",
    "ce = ictg.continuity_error()\n",
    "np.all(ce < 1e15)"
   ]
  },
  {
   "cell_type": "code",
   "execution_count": null,
   "id": "927124b2-7535-4561-8cd3-12386942d9d2",
   "metadata": {},
   "outputs": [],
   "source": [
    "(X1, X1dot, R1) = ictg.sample(rng, 2000, t_max, reg, x0, x0dot)"
   ]
  },
  {
   "cell_type": "code",
   "execution_count": null,
   "id": "c879061a-610b-44c0-b100-95944116f30c",
   "metadata": {
    "tags": []
   },
   "outputs": [],
   "source": [
    "fig = plt.figure()\n",
    "ax = fig.add_subplot(projection='3d')\n",
    "ax.view_init(elev=35, azim=30)\n",
    "ax.scatter3D(X1[:,0], X1[:,1], X1[:,2], c=R1, alpha=0.3, s=2)\n",
    "ax.set_xlabel(\"x\")\n",
    "ax.set_ylabel(\"y\")\n",
    "ax.set_zlabel(\"z\")\n",
    "ax.set_title(f\"$X \\sim N(0, I_3)$ given $X$ on {sides}-sided top\");"
   ]
  },
  {
   "cell_type": "markdown",
   "id": "b9cb9013-1d59-48c0-ac41-994a31ad12df",
   "metadata": {},
   "source": [
    "## Example 2 – Anisotropic Variance"
   ]
  },
  {
   "cell_type": "code",
   "execution_count": null,
   "id": "df68c339-a66e-476a-9f92-3cc351c4c407",
   "metadata": {
    "tags": []
   },
   "outputs": [],
   "source": [
    "mu2 = np.zeros((3,))\n",
    "Prec2 = np.array([\n",
    "    [5.0, 0.0, 0.0],\n",
    "    [0.0, 5.0, 0.0],\n",
    "    [0.0, 0.0, 0.1]\n",
    "])"
   ]
  },
  {
   "cell_type": "code",
   "execution_count": null,
   "id": "659c3748-7a23-414b-bdae-8036306268ed",
   "metadata": {
    "tags": []
   },
   "outputs": [],
   "source": [
    "rng = np.random.default_rng()"
   ]
  },
  {
   "cell_type": "code",
   "execution_count": null,
   "id": "207d13dd-a79e-4d37-b475-2f9387feac11",
   "metadata": {
    "tags": []
   },
   "outputs": [],
   "source": [
    "actg2 = AnisotropicCTGauss(Prec2, mu2, A, y, F, g, L, mean=True)"
   ]
  },
  {
   "cell_type": "code",
   "execution_count": null,
   "id": "0fa08b97-c8ad-4bd0-a720-a6c5b9ea1ecf",
   "metadata": {
    "tags": []
   },
   "outputs": [],
   "source": [
    "# DO WE PASS COTINUITY ERROR\n",
    "ce = actg2.continuity_error()\n",
    "np.all(ce < 1e15)"
   ]
  },
  {
   "cell_type": "code",
   "execution_count": null,
   "id": "d2c7095f-3f97-47ce-ae27-dac2d81e071f",
   "metadata": {},
   "outputs": [],
   "source": [
    "(X2, X2dot, R2) = actg2.sample(rng, N, t_max, reg, x0, x0dot)"
   ]
  },
  {
   "cell_type": "code",
   "execution_count": null,
   "id": "84d108ce-ffc1-4764-85a6-354ed68fc0b2",
   "metadata": {
    "tags": []
   },
   "outputs": [],
   "source": [
    "fig = plt.figure()\n",
    "ax = fig.add_subplot(projection='3d')\n",
    "ax.view_init(elev=10, azim=20)\n",
    "ax.scatter3D(X2[:,0], X2[:,1], X2[:,2], c=R2, alpha=0.4, s=2)\n",
    "ax.set_xlabel(\"x\")\n",
    "ax.set_ylabel(\"y\")\n",
    "ax.set_zlabel(\"z\")\n",
    "ax.set_title(f\"$X \\sim N(0, D)$ given $X$ on {sides}-sided top,\\n$D=diag(5., 5., 0.1)$\");"
   ]
  },
  {
   "cell_type": "markdown",
   "id": "7e989159-3f25-4890-8c28-ad155f5c098a",
   "metadata": {},
   "source": [
    "## Example 3 – Anisotropic Variance"
   ]
  },
  {
   "cell_type": "code",
   "execution_count": null,
   "id": "5373acef-6595-4375-ba53-0695567244a6",
   "metadata": {
    "tags": []
   },
   "outputs": [],
   "source": [
    "mu3 = np.zeros((3,))\n",
    "Prec3 = np.array([\n",
    "    [0.01, 0.0, 0.0],\n",
    "    [0.0, 0.01, 0.0],\n",
    "    [0.0, 0.0, 100.0]\n",
    "])"
   ]
  },
  {
   "cell_type": "code",
   "execution_count": null,
   "id": "37efb36c-a115-4382-8d05-0451588f4e2e",
   "metadata": {
    "tags": []
   },
   "outputs": [],
   "source": [
    "rng = np.random.default_rng()"
   ]
  },
  {
   "cell_type": "code",
   "execution_count": null,
   "id": "7347669c-4a8a-474b-8486-497fdcc3f981",
   "metadata": {
    "tags": []
   },
   "outputs": [],
   "source": [
    "actg3 = AnisotropicCTGauss(Prec3, mu3, A, y, F, g, L, mean=True)"
   ]
  },
  {
   "cell_type": "code",
   "execution_count": null,
   "id": "78e9d30c-da65-4af3-a9fe-b21e26dbca86",
   "metadata": {
    "tags": []
   },
   "outputs": [],
   "source": [
    "# DO WE PASS COTINUITY ERROR\n",
    "ce = actg3.continuity_error()\n",
    "np.all(ce < 1e15)"
   ]
  },
  {
   "cell_type": "code",
   "execution_count": null,
   "id": "60ee32f4-0dd6-4869-ad2f-4f3d9dd90e24",
   "metadata": {},
   "outputs": [],
   "source": [
    "(X3, X3dot, R3) = actg3.sample(rng, N, t_max, reg, x0, x0dot)"
   ]
  },
  {
   "cell_type": "code",
   "execution_count": null,
   "id": "b750fa4a-cf6e-4f1a-af28-a3762d28dd4d",
   "metadata": {
    "tags": []
   },
   "outputs": [],
   "source": [
    "fig = plt.figure()\n",
    "ax = fig.add_subplot(projection='3d')\n",
    "ax.view_init(elev=10, azim=30)\n",
    "ax.scatter3D(X3[:,0], X3[:,1], X3[:,2], c=R3, alpha=0.4, s=2)\n",
    "ax.set_xlabel(\"x\")\n",
    "ax.set_ylabel(\"y\")\n",
    "ax.set_zlabel(\"z\")\n",
    "ax.set_title(f\"$X \\sim N(0, D)$ given $X$ on {sides}-sided top,\\n$D=diag(0.1, 0.1, 100)$\");"
   ]
  },
  {
   "cell_type": "markdown",
   "id": "fac694fa-f186-4446-9901-5952d3611151",
   "metadata": {},
   "source": [
    "## Plot all together"
   ]
  },
  {
   "cell_type": "code",
   "execution_count": null,
   "id": "a3b6dd5c-4a64-4a61-92d7-7d492f4226f1",
   "metadata": {
    "tags": []
   },
   "outputs": [],
   "source": [
    "fig = plt.figure(figsize=(12, 4))\n",
    "\n",
    "ax1 = fig.add_subplot(1, 3, 1, projection='3d')\n",
    "ax1.view_init(elev=35, azim=30)\n",
    "ax1.scatter3D(X1[:,0], X1[:,1], X1[:,2], c=R1, alpha=0.3, s=2)\n",
    "ax1.set_xlabel(\"x\")\n",
    "ax1.set_ylabel(\"y\")\n",
    "ax1.set_zlabel(\"z\")\n",
    "ax1.set_title(f\"$X \\sim N(0, I_3)$ given $X$ on {sides}-sided top\");\n",
    "\n",
    "ax2 = fig.add_subplot(1, 3, 2, projection='3d')\n",
    "ax2.view_init(elev=10, azim=20)\n",
    "ax2.scatter3D(X2[:,0], X2[:,1], X2[:,2], c=R2, alpha=0.4, s=2)\n",
    "ax2.set_xlabel(\"x\")\n",
    "ax2.set_ylabel(\"y\")\n",
    "ax2.set_zlabel(\"z\")\n",
    "ax2.set_title(f\"$X \\sim N(0, D)$ given $X$ on {sides}-sided top,\\n$D=diag(5., 5., 0.1)$\");\n",
    "\n",
    "ax3 = fig.add_subplot(1, 3, 3, projection='3d')\n",
    "ax3.view_init(elev=10, azim=30)\n",
    "ax3.scatter3D(X3[:,0], X3[:,1], X3[:,2], c=R3, alpha=0.4, s=2)\n",
    "ax3.set_xlabel(\"x\")\n",
    "ax3.set_ylabel(\"y\")\n",
    "ax3.set_zlabel(\"z\")\n",
    "ax3.set_title(f\"$X \\sim N(0, D)$ given $X$ on {sides}-sided top,\\n$D=diag(0.1, 0.1, 100)$\");\n",
    "\n",
    "# fig.savefig(\"ntop-example.png\", dpi=300, pad_inches=0)"
   ]
  },
  {
   "cell_type": "code",
   "execution_count": null,
   "id": "2e821f2c-6acc-42f4-8152-e50f0b3531a3",
   "metadata": {},
   "outputs": [],
   "source": []
  },
  {
   "cell_type": "code",
   "execution_count": null,
   "id": "51aeb375-48e6-4eaa-ab42-0fcef7645b03",
   "metadata": {
    "tags": []
   },
   "outputs": [],
   "source": []
  }
 ],
 "metadata": {
  "kernelspec": {
   "display_name": "Python 3 (ipykernel)",
   "language": "python",
   "name": "python3"
  },
  "language_info": {
   "codemirror_mode": {
    "name": "ipython",
    "version": 3
   },
   "file_extension": ".py",
   "mimetype": "text/x-python",
   "name": "python",
   "nbconvert_exporter": "python",
   "pygments_lexer": "ipython3",
   "version": "3.11.2"
  }
 },
 "nbformat": 4,
 "nbformat_minor": 5
}
