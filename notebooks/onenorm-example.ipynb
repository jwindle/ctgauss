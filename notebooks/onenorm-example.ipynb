{
 "cells": [
  {
   "cell_type": "markdown",
   "id": "4e76e741-cfe4-4688-bdf7-fcb964c65cac",
   "metadata": {
    "tags": []
   },
   "source": [
    "# Background\n",
    "\n",
    "Here we present isotropic and anisotropic examples, both constrained to the same piecewise affine, continuous function.\n",
    "\n",
    "The first is:\n",
    "$$\n",
    "X \\sim (N(0, I_3) \\; | \\; \\|X\\|_1 = 1).\n",
    "$$\n",
    "\n",
    "The second is\n",
    "$$\n",
    "X \\sim (N(0, D) \\; | \\; \\|X\\|_1 = 1)\n",
    "$$\n",
    "where $D$ is diagonal with diagonal elements $(10.0, 0.1, 0.1)$."
   ]
  },
  {
   "cell_type": "markdown",
   "id": "3da961fd-07cc-4e70-8660-045c2dcd6e89",
   "metadata": {
    "tags": []
   },
   "source": [
    "# Import"
   ]
  },
  {
   "cell_type": "code",
   "execution_count": null,
   "id": "47871dc4-2e0c-4083-9c25-d914cfc888b8",
   "metadata": {
    "tags": []
   },
   "outputs": [],
   "source": [
    "import os\n",
    "import numpy as np\n",
    "import importlib as il"
   ]
  },
  {
   "cell_type": "code",
   "execution_count": null,
   "id": "3fa142ce-258c-4619-af06-d0e57e38aeb7",
   "metadata": {
    "tags": []
   },
   "outputs": [],
   "source": [
    "import matplotlib.pyplot as plt\n",
    "from mpl_toolkits.mplot3d import Axes3D"
   ]
  },
  {
   "cell_type": "code",
   "execution_count": null,
   "id": "88c52ef7-8ec1-4322-b280-9392c7382c99",
   "metadata": {
    "tags": []
   },
   "outputs": [],
   "source": [
    "# Make sure this is set to the repository base directory\n",
    "os.getenv(\"PYTHONPATH\", \"\")"
   ]
  },
  {
   "cell_type": "code",
   "execution_count": null,
   "id": "583133d3-b696-4d8e-b4e9-9b8a555071ec",
   "metadata": {
    "tags": []
   },
   "outputs": [],
   "source": [
    "il.import_module(\"ctgauss\")"
   ]
  },
  {
   "cell_type": "code",
   "execution_count": null,
   "id": "608e1dbb-aae9-4462-aa43-03019f3cb625",
   "metadata": {
    "tags": []
   },
   "outputs": [],
   "source": [
    "from ctgauss import IsotropicCTGauss, AnisotropicCTGauss"
   ]
  },
  {
   "cell_type": "markdown",
   "id": "fa5f518d-4c83-491a-9953-768303ee400f",
   "metadata": {
    "tags": []
   },
   "source": [
    "# Define geometry of subspace"
   ]
  },
  {
   "cell_type": "code",
   "execution_count": null,
   "id": "24455b84-bbd6-4ac3-80b7-04198180e2fd",
   "metadata": {
    "tags": []
   },
   "outputs": [],
   "source": [
    "F = np.eye(3)\n",
    "F"
   ]
  },
  {
   "cell_type": "code",
   "execution_count": null,
   "id": "ab60748d-28fa-457b-ae89-8ba6971e0d40",
   "metadata": {
    "tags": []
   },
   "outputs": [],
   "source": [
    "g = np.zeros((3,))\n",
    "g"
   ]
  },
  {
   "cell_type": "code",
   "execution_count": null,
   "id": "551090a3-99de-4df0-806e-ce296ac55005",
   "metadata": {
    "tags": []
   },
   "outputs": [],
   "source": [
    "region_signs = np.array([\n",
    "    [1, 1, 1], # R1 = Q1, z > 0\n",
    "    [-1, 1, 1], # R2 = Q2, z > 0\n",
    "    [-1, -1, 1], # R3 = Q3, z > 0\n",
    "    [1, -1, 1], # R4 = Q4, z > 0\n",
    "    [1, 1, -1], # R5 = Q1, z < 0\n",
    "    [-1, 1, -1], # R6 = Q2, z < 0\n",
    "    [-1, -1, -1], # R7 = Q3, z < 0\n",
    "    [1, -1, -1] # R8 = Q4, z < 0\n",
    "])"
   ]
  },
  {
   "cell_type": "code",
   "execution_count": null,
   "id": "0c972158-8204-4cc5-be59-0cc19ebefef9",
   "metadata": {
    "tags": []
   },
   "outputs": [],
   "source": [
    "region_transitions = np.array([\n",
    "    [2, 4, 5],\n",
    "    [1, 3, 6],\n",
    "    [4, 2, 7],\n",
    "    [3, 1, 8],\n",
    "    [6, 8, 1],\n",
    "    [5, 7, 2],\n",
    "    [8, 6, 3],\n",
    "    [7, 5, 4],\n",
    "])"
   ]
  },
  {
   "cell_type": "code",
   "execution_count": null,
   "id": "fd9ad0df-f958-4449-a463-e3ff2e922ef0",
   "metadata": {
    "tags": []
   },
   "outputs": [],
   "source": [
    "L = region_signs * region_transitions\n",
    "L"
   ]
  },
  {
   "cell_type": "code",
   "execution_count": null,
   "id": "79fa51f1-10d0-49c9-bd3d-8935b7a57228",
   "metadata": {
    "tags": []
   },
   "outputs": [],
   "source": [
    "A = np.array([\n",
    "    [1, 1, 1],\n",
    "    [-1, 1, 1],\n",
    "    [-1, -1, 1],\n",
    "    [1, -1, 1],\n",
    "    [1, 1, -1],\n",
    "    [-1, 1, -1],\n",
    "    [-1, -1, -1],\n",
    "    [1, -1, -1],\n",
    "]).reshape((8, 3, 1))"
   ]
  },
  {
   "cell_type": "code",
   "execution_count": null,
   "id": "566b77d2-7278-4886-a9b7-35918756e241",
   "metadata": {
    "tags": []
   },
   "outputs": [],
   "source": [
    "y = -np.ones((8,1))"
   ]
  },
  {
   "cell_type": "markdown",
   "id": "ae2e97bf-360c-4234-ac6a-a47a10beef0f",
   "metadata": {
    "tags": []
   },
   "source": [
    "# Plot subspace"
   ]
  },
  {
   "cell_type": "code",
   "execution_count": null,
   "id": "338d7743-7e57-4956-a873-7d3d03e0cdd5",
   "metadata": {
    "tags": []
   },
   "outputs": [],
   "source": [
    "# To plot |x|_1 cleanly we will create a mesh grid and then rotate it.\n",
    "\n",
    "bound = 1. / np.sqrt(2)\n",
    "xx, yy = np.meshgrid(np.linspace(-bound, bound, 101), np.linspace(-bound, bound, 101))"
   ]
  },
  {
   "cell_type": "code",
   "execution_count": null,
   "id": "2c3a33e2-97a4-49d3-80cc-6adcb072dc5f",
   "metadata": {
    "tags": []
   },
   "outputs": [],
   "source": [
    "alpha = np.pi / 4\n",
    "R = np.matrix([\n",
    "    [np.cos(alpha), -np.sin(alpha)],\n",
    "    [np.sin(alpha), np.cos(alpha)]\n",
    "])"
   ]
  },
  {
   "cell_type": "code",
   "execution_count": null,
   "id": "253db3b2-c473-4084-a695-fcf5cdd03b72",
   "metadata": {
    "tags": []
   },
   "outputs": [],
   "source": [
    "new_xy_flat = np.array([np.matmul(R, p) for p in zip(xx.flatten(), yy.flatten())]).squeeze()\n",
    "new_xx = new_xy_flat[:,0].reshape(xx.shape)\n",
    "new_yy = new_xy_flat[:,1].reshape(yy.shape)"
   ]
  },
  {
   "cell_type": "code",
   "execution_count": null,
   "id": "513ae656-bf1b-4ecd-9ba2-f939179f37c1",
   "metadata": {
    "tags": []
   },
   "outputs": [],
   "source": [
    "np.abs(new_xy_flat).sum(axis=1)"
   ]
  },
  {
   "cell_type": "code",
   "execution_count": null,
   "id": "b694e9bc-61b5-4082-a092-86e9d39c0da4",
   "metadata": {
    "tags": []
   },
   "outputs": [],
   "source": [
    "z1 = 1 - (np.abs(new_xx) + np.abs(new_yy))\n",
    "z2 = -1. * z1"
   ]
  },
  {
   "cell_type": "code",
   "execution_count": null,
   "id": "5f5c8951-27cc-4774-a7e4-0cc9f738b1b9",
   "metadata": {
    "tags": []
   },
   "outputs": [],
   "source": [
    "# Normal vectors, if we want to plot those\n",
    "ntimes = 3\n",
    "XYZ = np.zeros((8, 3, ntimes))\n",
    "for i in range(8):\n",
    "    XYZ[i,:,:] = np.outer(A[i,], np.linspace(0, 1.1, ntimes))"
   ]
  },
  {
   "cell_type": "code",
   "execution_count": null,
   "id": "33bd01c7-8d9f-45bf-8f74-23631334f221",
   "metadata": {
    "tags": []
   },
   "outputs": [],
   "source": [
    "fig = plt.figure()\n",
    "ax = fig.add_subplot(projection='3d')\n",
    "ax.plot_surface(new_xx, new_yy, z2, color=\"orange\", alpha=0.5)\n",
    "ax.plot_surface(new_xx, new_yy, z1, color=\"lightblue\", alpha=0.5)\n",
    "# for i in range(8):\n",
    "#     ax.plot3D(XYZ[i,0,:], XYZ[i,1,:], XYZ[i,2,:], color=\"black\", alpha=0.5)\n",
    "ax.set_xlabel(\"x\")\n",
    "ax.set_ylabel(\"y\")\n",
    "ax.set_zlabel(\"z\")\n",
    "ax.set_title(r\"The constrained region, $\\|x\\|_1 = 1$\");"
   ]
  },
  {
   "cell_type": "code",
   "execution_count": null,
   "id": "8d87a397-3cff-46bd-9ff0-27b2a2c44e69",
   "metadata": {
    "tags": []
   },
   "outputs": [],
   "source": []
  },
  {
   "cell_type": "markdown",
   "id": "fef25171-132e-46a3-83b0-b004bccddf12",
   "metadata": {},
   "source": [
    "# Example - Isotropic Variance"
   ]
  },
  {
   "cell_type": "code",
   "execution_count": null,
   "id": "ba80ec2c-b058-4132-808b-78034589568b",
   "metadata": {
    "tags": []
   },
   "outputs": [],
   "source": [
    "mu = np.zeros((3,))\n",
    "phi = 1.0\n",
    "\n",
    "N = 1000\n",
    "t_max = 0.5*np.pi\n",
    "x0 = np.array([1., 1., 1.]) / 3\n",
    "x0dot = np.array([1., -1., 0.]) / 2\n",
    "reg, j = 1, 0 # f vs. c indexing   "
   ]
  },
  {
   "cell_type": "code",
   "execution_count": null,
   "id": "39757fde-4d66-4fb4-b8f5-9f46c946c35c",
   "metadata": {
    "tags": []
   },
   "outputs": [],
   "source": [
    "rng = np.random.default_rng()"
   ]
  },
  {
   "cell_type": "code",
   "execution_count": null,
   "id": "9863917b-f664-487f-b70b-7e60ad206cf5",
   "metadata": {
    "tags": []
   },
   "outputs": [],
   "source": [
    "ictg = IsotropicCTGauss(phi, mu, A, y, F, g, L)"
   ]
  },
  {
   "cell_type": "code",
   "execution_count": null,
   "id": "1488cfeb-9c11-44c4-b196-1b9535d1e7d6",
   "metadata": {
    "tags": []
   },
   "outputs": [],
   "source": [
    "# DO WE PASS COTINUITY ERROR\n",
    "ce = ictg.continuity_error()\n",
    "np.all(ce < 1e15)"
   ]
  },
  {
   "cell_type": "code",
   "execution_count": null,
   "id": "e808aa63-295b-4edc-9c78-3f2e8f7b868d",
   "metadata": {},
   "outputs": [],
   "source": [
    "(X, Xdot, R) = ictg.sample(rng, N, t_max, reg, x0, x0dot)\n",
    "# (X, Xdot, R, I) = ictg.sample_with_boundaries(rng, N, t_max, reg, x0, x0dot)"
   ]
  },
  {
   "cell_type": "code",
   "execution_count": null,
   "id": "2a5320b1-77bb-420d-9fa3-f1aa768167a3",
   "metadata": {
    "tags": []
   },
   "outputs": [],
   "source": [
    "fig = plt.figure()\n",
    "ax = fig.add_subplot(projection='3d')\n",
    "ax.plot_surface(new_xx, new_yy, z2, color=\"orange\", alpha=0.2)\n",
    "ax.plot_surface(new_xx, new_yy, z1, color=\"lightblue\", alpha=0.2)\n",
    "ax.scatter3D(X[:,0], X[:,1], X[:,2], color=\"black\", alpha=0.4, s=2)\n",
    "ax.set_xlabel(\"x\")\n",
    "ax.set_ylabel(\"y\")\n",
    "ax.set_zlabel(\"z\")\n",
    "ax.set_title(r\"$X \\sim ( N(0, I_3) \\; | \\; \\|X\\|_1 = 1 )$\");"
   ]
  },
  {
   "cell_type": "code",
   "execution_count": null,
   "id": "9225b26b-d4db-4a9e-8338-013f20b936bf",
   "metadata": {
    "tags": []
   },
   "outputs": [],
   "source": [
    "# Check that we are on |x|_1 = 1\n",
    "np.allclose(np.abs(X).sum(axis=1), 1.0)"
   ]
  },
  {
   "cell_type": "code",
   "execution_count": null,
   "id": "0b5c5084-b36e-49ee-a5a5-11617c224595",
   "metadata": {
    "tags": []
   },
   "outputs": [],
   "source": [
    "# X.mean(axis=0)"
   ]
  },
  {
   "cell_type": "markdown",
   "id": "6c19178c-b54e-41b9-b780-11d4e1d6459d",
   "metadata": {},
   "source": [
    "# Example – Anisotropic Variance"
   ]
  },
  {
   "cell_type": "code",
   "execution_count": null,
   "id": "3814bc87-4063-4cb2-9417-64677a453da9",
   "metadata": {
    "tags": []
   },
   "outputs": [],
   "source": [
    "mu = np.zeros((3,))\n",
    "Prec = np.array([\n",
    "    [0.1, 0.0, 0.0],\n",
    "    [0.0, 10.0, 0.0],\n",
    "    [0.0, 0.0, 10.0]\n",
    "])\n",
    "\n",
    "N = 1000\n",
    "t_max = 0.5*np.pi\n",
    "x0 = np.array([1., 1., 1.]) / 3\n",
    "x0dot = np.array([1., -1., 0.]) / 2\n",
    "reg, j = 1, 0 # f vs. c indexing   "
   ]
  },
  {
   "cell_type": "code",
   "execution_count": null,
   "id": "e6ccda7e-3c6f-4ea1-aefe-848ca1d5481f",
   "metadata": {
    "tags": []
   },
   "outputs": [],
   "source": [
    "rng = np.random.default_rng()"
   ]
  },
  {
   "cell_type": "code",
   "execution_count": null,
   "id": "87798915-6c87-4227-a46b-0c7d7f7c4c91",
   "metadata": {
    "tags": []
   },
   "outputs": [],
   "source": [
    "actg = AnisotropicCTGauss(Prec, mu, A, y, F, g, L, mean=True)"
   ]
  },
  {
   "cell_type": "code",
   "execution_count": null,
   "id": "4cf88b6c-5a18-47d8-98b3-4ce8f455bc49",
   "metadata": {
    "tags": []
   },
   "outputs": [],
   "source": [
    "# DO WE PASS COTINUITY ERROR\n",
    "ce = actg.continuity_error()\n",
    "np.all(ce < 1e15)"
   ]
  },
  {
   "cell_type": "code",
   "execution_count": null,
   "id": "8bb36c0d-8f13-492b-b516-447ee0bd7a45",
   "metadata": {},
   "outputs": [],
   "source": [
    "(XA, XAdot, RA) = actg.sample(rng, N, t_max, reg, x0, x0dot)\n",
    "# (X, Xdot, R, I) = actg.sample_with_boundaries(rng, N, t_max, reg, x0, x0dot)"
   ]
  },
  {
   "cell_type": "code",
   "execution_count": null,
   "id": "0579d4f4-d1a1-47eb-98cc-cec4a1a4d9aa",
   "metadata": {
    "tags": []
   },
   "outputs": [],
   "source": [
    "fig = plt.figure()\n",
    "ax = fig.add_subplot(projection='3d')\n",
    "ax.plot_surface(new_xx, new_yy, z2, color=\"orange\", alpha=0.2)\n",
    "ax.plot_surface(new_xx, new_yy, z1, color=\"lightblue\", alpha=0.2)\n",
    "ax.scatter3D(XA[:,0], XA[:,1], XA[:,2], color=\"black\", alpha=0.4, s=2)\n",
    "ax.set_xlabel(\"x\")\n",
    "ax.set_ylabel(\"y\")\n",
    "ax.set_zlabel(\"z\")\n",
    "ax.set_title(r\"$X \\sim ( N(0, D) \\; | \\; \\|X\\|_1 = 1 )$, D=diag(0.1, 0.1, 10)\");"
   ]
  },
  {
   "cell_type": "code",
   "execution_count": null,
   "id": "615692cd-2dc9-46d8-903f-28a65a16d4dc",
   "metadata": {
    "tags": []
   },
   "outputs": [],
   "source": [
    "# Check that we are on |x|_1 = 1\n",
    "np.allclose(np.abs(X).sum(axis=1), 1.0)"
   ]
  },
  {
   "cell_type": "markdown",
   "id": "1a5b3ac9-bdb8-47d8-a48f-f1d0e42fbfa7",
   "metadata": {},
   "source": [
    "# Plot all together"
   ]
  },
  {
   "cell_type": "code",
   "execution_count": null,
   "id": "468b8ae1-bb8e-44b5-a582-42b6135a0281",
   "metadata": {
    "tags": []
   },
   "outputs": [],
   "source": [
    "fig = plt.figure(figsize=(12, 4))\n",
    "\n",
    "ax1 = fig.add_subplot(1, 3, 1, projection='3d')\n",
    "ax1.plot_surface(new_xx, new_yy, z2, color=\"orange\", alpha=0.5)\n",
    "ax1.plot_surface(new_xx, new_yy, z1, color=\"lightblue\", alpha=0.5)\n",
    "ax1.set_xlabel(\"x\")\n",
    "ax1.set_ylabel(\"y\")\n",
    "ax1.set_zlabel(\"z\")\n",
    "ax1.set_title(r\"The constrained region, $\\|x\\|_1 = 1$\");\n",
    "\n",
    "ax2 = fig.add_subplot(1, 3, 2, projection='3d')\n",
    "ax2.plot_surface(new_xx, new_yy, z2, color=\"orange\", alpha=0.2)\n",
    "ax2.plot_surface(new_xx, new_yy, z1, color=\"lightblue\", alpha=0.2)\n",
    "ax2.scatter3D(X[:,0], X[:,1], X[:,2], color=\"black\", alpha=0.4, s=2)\n",
    "ax2.set_xlabel(\"x\")\n",
    "ax2.set_ylabel(\"y\")\n",
    "ax2.set_zlabel(\"z\")\n",
    "ax2.set_title(r\"$X \\sim ( N(0, I_3) \\; | \\; \\|X\\|_1 = 1 )$\");\n",
    "\n",
    "ax3 = fig.add_subplot(1, 3, 3, projection='3d')\n",
    "ax3.plot_surface(new_xx, new_yy, z2, color=\"orange\", alpha=0.2)\n",
    "ax3.plot_surface(new_xx, new_yy, z1, color=\"lightblue\", alpha=0.2)\n",
    "ax3.scatter3D(XA[:,0], XA[:,1], XA[:,2], color=\"black\", alpha=0.4, s=2)\n",
    "ax3.set_xlabel(\"x\")\n",
    "ax3.set_ylabel(\"y\")\n",
    "ax3.set_zlabel(\"z\")\n",
    "ax3.set_title(r\"$X \\sim ( N(0, D) \\; | \\; \\|X\\|_1 = 1 )$, D=diag(0.1, 10., 10.)\");\n",
    "\n",
    "# fig.savefig(\"onenorm-example.png\", dpi=300, pad_inches=0)"
   ]
  },
  {
   "cell_type": "code",
   "execution_count": null,
   "id": "9483890c-5fde-4176-9b08-3f53b6bfeec1",
   "metadata": {},
   "outputs": [],
   "source": []
  },
  {
   "cell_type": "code",
   "execution_count": null,
   "id": "e845afd6-316c-4791-af00-89ea3e1caa1b",
   "metadata": {},
   "outputs": [],
   "source": []
  }
 ],
 "metadata": {
  "kernelspec": {
   "display_name": "Python 3 (ipykernel)",
   "language": "python",
   "name": "python3"
  },
  "language_info": {
   "codemirror_mode": {
    "name": "ipython",
    "version": 3
   },
   "file_extension": ".py",
   "mimetype": "text/x-python",
   "name": "python",
   "nbconvert_exporter": "python",
   "pygments_lexer": "ipython3",
   "version": "3.11.2"
  }
 },
 "nbformat": 4,
 "nbformat_minor": 5
}
