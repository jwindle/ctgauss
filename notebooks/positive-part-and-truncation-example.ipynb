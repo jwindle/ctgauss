{
 "cells": [
  {
   "cell_type": "markdown",
   "id": "7c24f721-e377-4ba6-a8f8-478c6840ce38",
   "metadata": {
    "tags": []
   },
   "source": [
    "# Background\n",
    "\n",
    "Here we want to sample from $X \\sim (N(1, I_3) | \\ell(X) = d, X \\geq 0)$ where\n",
    "$$\\ell(x) = \\sum_{i=1}^4 u_i (r - \\sum_{j=1}^{i-1} x_i)^+$$ \n",
    "with parameters $r > 0$ and $u_i, i=1, \\ldots 4$ and a backwards summation assumed to be zero.  This function arises when modeling root growth in a piecewise linear fashion."
   ]
  },
  {
   "cell_type": "markdown",
   "id": "e5ef3c06-84fa-43c5-9c79-4a25433a23ce",
   "metadata": {
    "tags": []
   },
   "source": [
    "# Import"
   ]
  },
  {
   "cell_type": "code",
   "execution_count": null,
   "id": "12b0a240-df0c-41f5-b12c-1fc1c4155e76",
   "metadata": {
    "tags": []
   },
   "outputs": [],
   "source": [
    "import os\n",
    "import numpy as np\n",
    "import importlib as il"
   ]
  },
  {
   "cell_type": "code",
   "execution_count": null,
   "id": "7105a73f-8d2b-4dfb-b383-38789560d1a6",
   "metadata": {
    "tags": []
   },
   "outputs": [],
   "source": [
    "import matplotlib.pyplot as plt\n",
    "from mpl_toolkits.mplot3d import Axes3D"
   ]
  },
  {
   "cell_type": "code",
   "execution_count": null,
   "id": "2a9f4505-abbe-4577-8e34-ed2b15cbd931",
   "metadata": {
    "tags": []
   },
   "outputs": [],
   "source": [
    "# Make sure this is set to the repository base directory\n",
    "os.getenv(\"PYTHONPATH\", \"\")"
   ]
  },
  {
   "cell_type": "code",
   "execution_count": null,
   "id": "d014c3d9-70cb-416a-8b88-e99dcabf2f08",
   "metadata": {
    "tags": []
   },
   "outputs": [],
   "source": [
    "il.import_module(\"ctgauss\")"
   ]
  },
  {
   "cell_type": "code",
   "execution_count": null,
   "id": "498d3ca4-ce67-4066-8518-ab0edbff46e3",
   "metadata": {
    "tags": []
   },
   "outputs": [],
   "source": [
    "from ctgauss import IsotropicCTGauss, AnisotropicCTGauss"
   ]
  },
  {
   "cell_type": "markdown",
   "id": "003abe1c-517b-40e0-9d35-a38d5cde587e",
   "metadata": {
    "tags": []
   },
   "source": [
    "# Define geometry of subspace"
   ]
  },
  {
   "cell_type": "code",
   "execution_count": null,
   "id": "5bd3baa0-b54d-41e6-ae30-7e7dfaeddbf9",
   "metadata": {
    "tags": []
   },
   "outputs": [],
   "source": [
    "def delta_x_regions(K, r):\n",
    "    # K is number of kinks\n",
    "    # r is radius\n",
    "    # x_i = c_i' delta_x, i=0...,K+1, c_i = first i coords 1, else 0                                                                                                                                                                  \n",
    "    # regions                                                                                                                                                                                                                         \n",
    "    E = np.eye(K)\n",
    "    Cp = np.tril(np.ones((K+1, K+1)), -1)[:,0:-1] # K+1 x K: C[0,:] is unnecessary, but makes indexing easier                                                                                                                         \n",
    "    Cn = Cp\n",
    "    gE = np.full((K,), fill_value=0.)\n",
    "    gCp = np.full((K+1,), fill_value=-r)\n",
    "    gCn = np.full((K+1,), fill_value=-r)\n",
    "    sE = np.zeros((K+1, K))\n",
    "    sCp = np.zeros((K+1, K+1))\n",
    "    sCn = np.zeros((K+1, K+1))\n",
    "    # This is if we allow x_1 > r (fortran indexing)                                                                                                                                                                                  \n",
    "    # Region 1                                                                                                                                                                                                                        \n",
    "    k_f, k_c = 1, 0\n",
    "    sCp[k_c, k_f] = k_f + 1\n",
    "    sE[k_c,:] = k_f\n",
    "    # Region 2..K                                                                                                                                                                                                                     \n",
    "    for k_f in range(2, K+1):\n",
    "        k_c = k_f - 1\n",
    "        sCp[k_c, k_f] = k_f + 1 # move up                                                                                                                                                                                             \n",
    "        sCn[k_c, k_f - 1] = -(k_f - 1) # move down                                                                                                                                                                                    \n",
    "        sE[k_c,:] = k_f\n",
    "    # Region K+1                                                                                                                                                                                                                      \n",
    "    k_f, k_c = K+1, K\n",
    "    sCn[k_c, k_f - 1] = -(k_f - 1) # move down                                                                                                                                                                                        \n",
    "    sE[k_c,:] = k_f\n",
    "    # If we do not allow x_1 > r, then we must set                                                                                                                                                                                    \n",
    "    # k_f, k_c = 2, 1                                                                                                                                                                                                                 \n",
    "    sCn[1, 1] = -2 # reflect back into region 2                                                                                                                                                                                       \n",
    "    sCp[0, 1] = 1 # reflect back into region 1, but should never be in region 1                                                                                                                                                       \n",
    "    F = np.vstack([Cp, Cn, E])\n",
    "    g = np.concatenate([gCp, gCn, gE], axis=None)\n",
    "    L = np.hstack([sCp, sCn, sE])\n",
    "    return (F, g, L)"
   ]
  },
  {
   "cell_type": "code",
   "execution_count": null,
   "id": "e2b123c9-badf-47d4-a2d4-d741a015d76f",
   "metadata": {
    "tags": []
   },
   "outputs": [],
   "source": [
    "def delta_x_constraints(dv, r, h):\n",
    "    # v_i = sum(dv[0:i]), so v_0 = 0\n",
    "    K = dv.shape[0] - 1\n",
    "    C = np.tril(np.ones((K+1, K+1)), 0)\n",
    "    # m = C delta_m                                                                                                                                                                                                                   \n",
    "    v = np.matmul(C, dv)\n",
    "    A = np.zeros((K+1, K, 1))\n",
    "    b = np.zeros((K+1,))\n",
    "    # We should not have to use region 1 (0 in c-indexing)                                                                                                                                                                                              \n",
    "    for k_c in range(1, K+1):\n",
    "        # k_f = k_c + 1\n",
    "        A[k_c,0:k_c,0] = v[0:k_c] - v[k_c]                                                                                                                                                                                         \n",
    "    b = - (h - (v * r).reshape(K+1, 1)) # y from A'x + y\n",
    "    return (A, b)"
   ]
  },
  {
   "cell_type": "code",
   "execution_count": null,
   "id": "8d58fbb6-0f8e-4275-a7d0-5e145e32ccc0",
   "metadata": {
    "tags": []
   },
   "outputs": [],
   "source": [
    "K = 3"
   ]
  },
  {
   "cell_type": "code",
   "execution_count": null,
   "id": "bbfe96ba-d851-4175-b63f-2052d1ddd0d5",
   "metadata": {
    "tags": []
   },
   "outputs": [],
   "source": [
    "r = 4"
   ]
  },
  {
   "cell_type": "code",
   "execution_count": null,
   "id": "fd2e16cf-55e0-4909-9df8-c20022f8787e",
   "metadata": {
    "tags": []
   },
   "outputs": [],
   "source": [
    "d = 1.0"
   ]
  },
  {
   "cell_type": "code",
   "execution_count": null,
   "id": "f626fab5-6fb6-4838-b0ba-0ec2464277a8",
   "metadata": {
    "tags": []
   },
   "outputs": [],
   "source": [
    "dv = np.array([0.15, 0.20, 0.25, 0.30])"
   ]
  },
  {
   "cell_type": "code",
   "execution_count": null,
   "id": "e9ebd284-18f0-4025-900b-2cdae469c445",
   "metadata": {
    "tags": []
   },
   "outputs": [],
   "source": [
    "F, g, L = delta_x_regions(K, r)"
   ]
  },
  {
   "cell_type": "code",
   "execution_count": null,
   "id": "dec601e3-672c-4458-92e6-0be88bb770d3",
   "metadata": {
    "tags": []
   },
   "outputs": [],
   "source": [
    "A, y = delta_x_constraints(dv, r, d)"
   ]
  },
  {
   "cell_type": "markdown",
   "id": "688913a4-32f4-4841-9690-86791814e3dc",
   "metadata": {},
   "source": [
    "# Plot"
   ]
  },
  {
   "cell_type": "code",
   "execution_count": null,
   "id": "409a371e-fb4f-4397-9291-b66554516cee",
   "metadata": {
    "tags": []
   },
   "outputs": [],
   "source": [
    "def make_plane_mesh(a, b, independent_axes, dependent_axis, bounds1, bounds2, ngrid):\n",
    "    i1, i2 = independent_axes\n",
    "    i3 = dependent_axis\n",
    "    grid1 = np.linspace(bounds1[0], bounds1[1], ngrid)\n",
    "    grid2 = np.linspace(bounds2[0], bounds2[1], ngrid)\n",
    "    M1, M2 = np.meshgrid(grid1, grid2)\n",
    "    mesh_shape = M1.shape\n",
    "    M3 = - ((a[i1] * M1 + a[i2] * M2) + b) / a[i3]\n",
    "    cube_grid = np.zeros((3, mesh_shape[0], mesh_shape[1]))\n",
    "    cube_grid[i1] = M1\n",
    "    cube_grid[i2] = M2\n",
    "    cube_grid[i3] = M3\n",
    "    return (cube_grid[0], cube_grid[1], cube_grid[2])"
   ]
  },
  {
   "cell_type": "code",
   "execution_count": null,
   "id": "2bee5e2f-856e-4f7b-af67-4c13de54d01b",
   "metadata": {
    "tags": []
   },
   "outputs": [],
   "source": [
    "Ftil = np.vstack((F[5:11,:], A.squeeze()[1:,:]))"
   ]
  },
  {
   "cell_type": "code",
   "execution_count": null,
   "id": "be884864-72d8-4219-874b-b0287d954440",
   "metadata": {
    "tags": []
   },
   "outputs": [],
   "source": [
    "gtil = np.hstack((g[5:11], y.squeeze()[1:]))"
   ]
  },
  {
   "cell_type": "code",
   "execution_count": null,
   "id": "43abab5a-6dc2-431a-b039-9cb6cb7cc348",
   "metadata": {
    "tags": []
   },
   "outputs": [],
   "source": [
    "# Concatenation of F and A and g and y give us the information we need to make the planes\n",
    "Ftil, g"
   ]
  },
  {
   "cell_type": "code",
   "execution_count": null,
   "id": "5794106f-c400-489d-b29e-23458873266f",
   "metadata": {
    "tags": []
   },
   "outputs": [],
   "source": [
    "xp = np.zeros(Ftil.shape)"
   ]
  },
  {
   "cell_type": "code",
   "execution_count": null,
   "id": "6217546f-14c8-4c65-ae7e-38bdf7a37019",
   "metadata": {
    "tags": []
   },
   "outputs": [],
   "source": [
    "# Make normal vectors to planes\n",
    "ntimes = 3\n",
    "times = np.linspace(0, 1.1, ntimes)\n",
    "XYZ = np.zeros((Ftil.shape[0], Ftil.shape[1], ntimes))\n",
    "for i in range(Ftil.shape[0]):\n",
    "    f = Ftil[i,:]\n",
    "    xp_i = -gtil[i] * f / np.dot(f, f)\n",
    "    xp[i,:] = xp_i\n",
    "    XYZ[i,:,:] = np.outer(f, times) + xp_i.reshape(3,1)"
   ]
  },
  {
   "cell_type": "code",
   "execution_count": null,
   "id": "f59d3c52-cb7f-4098-b385-e0fd7b5fe5e6",
   "metadata": {
    "tags": []
   },
   "outputs": [],
   "source": [
    "# Make planes"
   ]
  },
  {
   "cell_type": "code",
   "execution_count": null,
   "id": "d6c996df-646f-4bfc-965d-814685807194",
   "metadata": {
    "tags": []
   },
   "outputs": [],
   "source": [
    "bounds = (0, 4)\n",
    "ngrid = 10"
   ]
  },
  {
   "cell_type": "code",
   "execution_count": null,
   "id": "0299238f-3b98-43a3-9654-0328198c08b7",
   "metadata": {
    "tags": []
   },
   "outputs": [],
   "source": [
    "# Boundaries for reflecting - index corresponds to fortran index of row in Ftil"
   ]
  },
  {
   "cell_type": "code",
   "execution_count": null,
   "id": "ebe2df9b-f2f8-4d1d-a06b-54635de59ecd",
   "metadata": {
    "tags": []
   },
   "outputs": [],
   "source": [
    "xx4, yy4, zz4 = make_plane_mesh(np.array([1, 0, 0]), 0, (1, 2), 0, bounds, bounds, ngrid)"
   ]
  },
  {
   "cell_type": "code",
   "execution_count": null,
   "id": "a06cc1ae-db91-4290-9cd0-9e6677c5ffcc",
   "metadata": {
    "tags": []
   },
   "outputs": [],
   "source": [
    "xx5, yy5, zz5 = make_plane_mesh(np.array([0, 1, 0]), 0, (0, 2), 1, bounds, bounds, ngrid)"
   ]
  },
  {
   "cell_type": "code",
   "execution_count": null,
   "id": "e74a6b9b-f467-4878-9fc9-fd531375e7a9",
   "metadata": {
    "tags": []
   },
   "outputs": [],
   "source": [
    "xx6, yy6, zz6 = make_plane_mesh(np.array([0, 0, 1]), 0, (0, 1), 2, bounds, bounds, ngrid)"
   ]
  },
  {
   "cell_type": "code",
   "execution_count": null,
   "id": "6f53c6d8-5ced-4af1-b9bd-99bf84da00ab",
   "metadata": {
    "tags": []
   },
   "outputs": [],
   "source": [
    "# Interior boundaries dividing region"
   ]
  },
  {
   "cell_type": "code",
   "execution_count": null,
   "id": "03d9c898-a3b0-4a0d-a682-ae630bb74600",
   "metadata": {
    "tags": []
   },
   "outputs": [],
   "source": [
    "xx1, yy1, zz1 = make_plane_mesh(Ftil[0], gtil[0], (1, 2), 0, bounds, bounds, ngrid)"
   ]
  },
  {
   "cell_type": "code",
   "execution_count": null,
   "id": "3951ec6d-8b26-4abc-8e3e-0d9600be7ad3",
   "metadata": {
    "tags": []
   },
   "outputs": [],
   "source": [
    "xx2, yy2, zz2 = make_plane_mesh(Ftil[1], gtil[1], (1, 2), 0, bounds, bounds, ngrid)"
   ]
  },
  {
   "cell_type": "code",
   "execution_count": null,
   "id": "c7fc207f-03e0-4240-a889-b1fe6cfd91dd",
   "metadata": {
    "tags": []
   },
   "outputs": [],
   "source": [
    "xx3, yy3, zz3 = make_plane_mesh(Ftil[2], gtil[2], (0, 1), 2, bounds, bounds, ngrid)"
   ]
  },
  {
   "cell_type": "code",
   "execution_count": null,
   "id": "957c43f7-492e-42e3-996e-b7c9efa2db8b",
   "metadata": {
    "tags": []
   },
   "outputs": [],
   "source": [
    "# Subspace within each region"
   ]
  },
  {
   "cell_type": "code",
   "execution_count": null,
   "id": "083f39ef-a869-47ea-a6dd-ccf94a9c9552",
   "metadata": {
    "tags": []
   },
   "outputs": [],
   "source": [
    "xx7, yy7, zz7 = make_plane_mesh(Ftil[6], gtil[6], (1, 2), 0, bounds, bounds, ngrid)"
   ]
  },
  {
   "cell_type": "code",
   "execution_count": null,
   "id": "58cd4dc2-631a-477f-b405-fc5a35e04f0a",
   "metadata": {
    "tags": []
   },
   "outputs": [],
   "source": [
    "xx8, yy8, zz8 = make_plane_mesh(Ftil[7], gtil[7], (1, 2), 0, bounds, bounds, ngrid)"
   ]
  },
  {
   "cell_type": "code",
   "execution_count": null,
   "id": "6e53eccc-804e-4daf-a1a9-fc65acd4a824",
   "metadata": {
    "tags": []
   },
   "outputs": [],
   "source": [
    "xx9, yy9, zz9 = make_plane_mesh(Ftil[8], gtil[8], (1, 2), 0, bounds, bounds, ngrid)"
   ]
  },
  {
   "cell_type": "code",
   "execution_count": null,
   "id": "573327ca-a3bf-4ec0-87bd-59fc1ef7c233",
   "metadata": {
    "tags": []
   },
   "outputs": [],
   "source": [
    "# xlim = np.min(XYZ[:,0,:]), np.max(XYZ[:,0,:])\n",
    "# ylim = np.min(XYZ[:,1,:]), np.max(XYZ[:,1,:])\n",
    "# zlim = np.min(XYZ[:,2,:]), np.max(XYZ[:,2,:])"
   ]
  },
  {
   "cell_type": "code",
   "execution_count": null,
   "id": "769b3e47-55f5-4c85-811f-c0931b226b54",
   "metadata": {
    "tags": []
   },
   "outputs": [],
   "source": [
    "fig = plt.figure(figsize=(12, 5))\n",
    "plt.suptitle(\"Bounding and subspace planes\")\n",
    "plt.title(\"Grey (hard boundary), Orange (boundary between regions), Blue (subspace)\")\n",
    "plt.box(on=None)\n",
    "plt.axis('off')\n",
    "\n",
    "ax1 = fig.add_subplot(1, 3, 1, projection='3d')\n",
    "ax1.view_init(elev=30, azim=50)\n",
    "ax1.plot_surface(xx4, yy4, zz4, color=\"grey\", alpha=0.2)\n",
    "ax1.plot_surface(xx5, yy5, zz5, color=\"grey\", alpha=0.2)\n",
    "ax1.plot_surface(xx6, yy6, zz6, color=\"grey\", alpha=0.2)\n",
    "ax1.plot_surface(xx1, yy1, zz1, color=\"orange\", alpha=0.2)\n",
    "ax1.plot_surface(xx2, yy2, zz2, color=\"orange\", alpha=0.2)\n",
    "ax1.plot_surface(xx7, yy7, zz7, color=\"blue\", alpha=0.2)\n",
    "ax1.set_xlim((0,4))\n",
    "ax1.set_ylim((0,4)) \n",
    "ax1.set_zlim((0,4)) \n",
    "ax1.set_xlabel(\"x\")\n",
    "ax1.set_ylabel(\"y\")\n",
    "ax1.set_zlabel(\"z\")\n",
    "ax1.set_title(\"Region 1\")\n",
    "\n",
    "ax2 = fig.add_subplot(1, 3, 2, projection='3d')\n",
    "ax2.view_init(elev=30, azim=50)\n",
    "ax2.plot_surface(xx4, yy4, zz4, color=\"grey\", alpha=0.2)\n",
    "ax2.plot_surface(xx5, yy5, zz5, color=\"grey\", alpha=0.2)\n",
    "ax2.plot_surface(xx6, yy6, zz6, color=\"grey\", alpha=0.2)\n",
    "ax2.plot_surface(xx2, yy2, zz2, color=\"orange\", alpha=0.2)\n",
    "ax2.plot_surface(xx3, yy3, zz3, color=\"orange\", alpha=0.2)\n",
    "ax2.plot_surface(xx8, yy8, zz8, color=\"blue\", alpha=0.2)\n",
    "ax2.set_xlim((0,4))\n",
    "ax2.set_ylim((0,4)) \n",
    "ax2.set_zlim((0,4)) \n",
    "ax2.set_xlabel(\"x\")\n",
    "ax2.set_ylabel(\"y\")\n",
    "ax2.set_zlabel(\"z\")\n",
    "ax2.set_title(\"Region 2\")\n",
    "\n",
    "\n",
    "ax3 = fig.add_subplot(1, 3, 3, projection='3d')\n",
    "ax3.view_init(elev=30, azim=50)\n",
    "ax3.plot_surface(xx4, yy4, zz4, color=\"grey\", alpha=0.2)\n",
    "ax3.plot_surface(xx5, yy5, zz5, color=\"grey\", alpha=0.2)\n",
    "ax3.plot_surface(xx6, yy6, zz6, color=\"grey\", alpha=0.2)\n",
    "ax3.plot_surface(xx3, yy3, zz3, color=\"orange\", alpha=0.2)\n",
    "ax3.plot_surface(xx9, yy9, zz9, color=\"blue\", alpha=0.2)\n",
    "ax3.set_xlim((0,4))\n",
    "ax3.set_ylim((0,4)) \n",
    "ax3.set_zlim((0,4)) \n",
    "ax3.set_xlabel(\"x\")\n",
    "ax3.set_ylabel(\"y\")\n",
    "ax3.set_zlabel(\"z\")\n",
    "ax3.set_title(\"Region 3\");\n",
    "\n",
    "# fig.savefig(\"positive-part-regions.png\", dpi=300, pad_inches=0)"
   ]
  },
  {
   "cell_type": "code",
   "execution_count": null,
   "id": "0ba79a04-b393-4de1-b4a9-2823baea2973",
   "metadata": {
    "tags": []
   },
   "outputs": [],
   "source": [
    "fig = plt.figure()\n",
    "plt.suptitle(\"Bounding and subspace planes (and normal vectors) for all regions\")\n",
    "plt.title(\"Grey (hard boundary), Orange (boundary between regions), Blue (subspace)\")\n",
    "plt.box(on=None)\n",
    "plt.axis('off')\n",
    "\n",
    "ax = fig.add_subplot(projection='3d')\n",
    "ax.view_init(elev=30, azim=50)\n",
    "for i in range(XYZ.shape[0]):\n",
    "    ax.plot3D(XYZ[i,0,:], XYZ[i,1,:], XYZ[i,2,:], color=\"black\", alpha=0.5)\n",
    "ax.scatter(XYZ[:,0,0], XYZ[:,1,0], XYZ[:,2,0], color=\"green\", alpha=0.5, s=100)\n",
    "ax.scatter(XYZ[:,0,-1], XYZ[:,1,-1], XYZ[:,2,-1], color=\"red\", alpha=0.5, s=100)\n",
    "ax.plot_surface(xx4, yy4, zz4, color=\"grey\", alpha=0.2)\n",
    "ax.plot_surface(xx5, yy5, zz5, color=\"grey\", alpha=0.2)\n",
    "ax.plot_surface(xx6, yy6, zz6, color=\"grey\", alpha=0.2)\n",
    "ax.plot_surface(xx1, yy1, zz1, color=\"orange\", alpha=0.2)\n",
    "ax.plot_surface(xx2, yy2, zz2, color=\"orange\", alpha=0.2)\n",
    "ax.plot_surface(xx3, yy3, zz3, color=\"orange\", alpha=0.2)\n",
    "ax.plot_surface(xx7, yy7, zz7, color=\"blue\", alpha=0.2)\n",
    "ax.plot_surface(xx8, yy8, zz8, color=\"blue\", alpha=0.2)\n",
    "ax.plot_surface(xx9, yy9, zz9, color=\"blue\", alpha=0.2)\n",
    "ax.set_xlim((0,4))\n",
    "ax.set_ylim((0,4)) \n",
    "ax.set_zlim((0,4)) \n",
    "ax.set_xlabel(\"x\")\n",
    "ax.set_ylabel(\"y\")\n",
    "ax.set_zlabel(\"z\");"
   ]
  },
  {
   "cell_type": "markdown",
   "id": "c39bb989-61c1-4f41-9f83-f0f7d9c1edcf",
   "metadata": {
    "tags": []
   },
   "source": [
    "# Example - Isotropic Gaussian"
   ]
  },
  {
   "cell_type": "code",
   "execution_count": null,
   "id": "f18c9a35-6cf9-4510-938d-56cf5d2fbeb8",
   "metadata": {
    "tags": []
   },
   "outputs": [],
   "source": [
    "mu = np.full((3,), fill_value=1.0)\n",
    "phi = 1.0\n",
    "\n",
    "N = 1000\n",
    "t_max = 0.5*np.pi\n",
    "x0 = np.array([2., 3., 2.])\n",
    "x0dot = np.array([0., -1., 0.]) / 2\n",
    "reg, j = 2, 1 # f vs. c indexing  "
   ]
  },
  {
   "cell_type": "code",
   "execution_count": null,
   "id": "be36c16b-18e2-4190-a3df-3fd632fe78d1",
   "metadata": {
    "tags": []
   },
   "outputs": [],
   "source": [
    "rng = np.random.default_rng()"
   ]
  },
  {
   "cell_type": "code",
   "execution_count": null,
   "id": "061c43a8-e89c-4234-b444-ad16ab89cb47",
   "metadata": {
    "tags": []
   },
   "outputs": [],
   "source": [
    "ictg = IsotropicCTGauss(phi, mu, A, y, F, g, L)"
   ]
  },
  {
   "cell_type": "code",
   "execution_count": null,
   "id": "ca6835c4-16b9-4909-89e4-906a665f09af",
   "metadata": {
    "tags": []
   },
   "outputs": [],
   "source": [
    "# DO WE PASS COTINUITY ERROR\n",
    "ce = ictg.continuity_error()\n",
    "np.all(ce < 1e15)"
   ]
  },
  {
   "cell_type": "code",
   "execution_count": null,
   "id": "420a9293-d7ff-4909-9830-4a02b9a2b635",
   "metadata": {
    "tags": []
   },
   "outputs": [],
   "source": [
    "(X, Xdot, R) = ictg.sample(rng, N, t_max, reg, x0, x0dot)\n",
    "# (X, Xdot, R, I) = ictg.sample_with_boundaries(rng, N, t_max, reg, x0, x0dot)"
   ]
  },
  {
   "cell_type": "code",
   "execution_count": null,
   "id": "4568256f-8149-4dad-99e1-0f089b971114",
   "metadata": {
    "tags": []
   },
   "outputs": [],
   "source": [
    "fig = plt.figure(figsize=(12, 5))\n",
    "plt.suptitle(r\"Sample of $N(1, I_3)$ constrained to subspace\")\n",
    "plt.title(\"Region 1 (Purple), Region 2 (Teal), Region 3 (Yellow)\")\n",
    "plt.box(on=None)\n",
    "plt.axis('off')\n",
    "\n",
    "ax1 = fig.add_subplot(1, 2, 1, projection='3d')\n",
    "ax1.view_init(elev=30, azim=50)\n",
    "ax1.scatter3D(X[:,0], X[:,1], X[:,2], c=R, alpha=0.4, s=2)\n",
    "ax1.set_xlim((0,4))\n",
    "ax1.set_ylim((0,4)) \n",
    "ax1.set_zlim((0,4))\n",
    "ax1.set_xlabel(\"x\")\n",
    "ax1.set_ylabel(\"y\")\n",
    "ax1.set_zlabel(\"z\")\n",
    "\n",
    "ax2 = fig.add_subplot(1, 2, 2, projection='3d')\n",
    "ax2.view_init(elev=20, azim=-60)\n",
    "ax2.scatter3D(X[:,0], X[:,1], X[:,2], c=R, alpha=0.4, s=2)\n",
    "ax2.set_xlim((0,4))\n",
    "ax2.set_ylim((0,4)) \n",
    "ax2.set_zlim((0,4))\n",
    "ax2.set_xlabel(\"x\")\n",
    "ax2.set_ylabel(\"y\")\n",
    "ax2.set_zlabel(\"z\");\n",
    "\n",
    "# fig.savefig(\"positive-part-samples.png\", dpi=300, pad_inches=0)"
   ]
  },
  {
   "cell_type": "code",
   "execution_count": null,
   "id": "e19a247a-8df9-4e4b-9090-86cbffc68547",
   "metadata": {},
   "outputs": [],
   "source": []
  },
  {
   "cell_type": "code",
   "execution_count": null,
   "id": "98f49da0-4cfb-4cb4-a8bf-4c18ec6e9904",
   "metadata": {},
   "outputs": [],
   "source": []
  },
  {
   "cell_type": "code",
   "execution_count": null,
   "id": "60d63dc0-761a-47bc-8ecb-775c3643712c",
   "metadata": {},
   "outputs": [],
   "source": []
  }
 ],
 "metadata": {
  "kernelspec": {
   "display_name": "Python 3 (ipykernel)",
   "language": "python",
   "name": "python3"
  },
  "language_info": {
   "codemirror_mode": {
    "name": "ipython",
    "version": 3
   },
   "file_extension": ".py",
   "mimetype": "text/x-python",
   "name": "python",
   "nbconvert_exporter": "python",
   "pygments_lexer": "ipython3",
   "version": "3.11.2"
  }
 },
 "nbformat": 4,
 "nbformat_minor": 5
}
